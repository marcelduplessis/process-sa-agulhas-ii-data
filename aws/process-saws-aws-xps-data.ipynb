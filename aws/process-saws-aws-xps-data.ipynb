{
 "cells": [
  {
   "cell_type": "markdown",
   "id": "ff7392a1-a78c-463c-8c47-da3128c2961e",
   "metadata": {},
   "source": [
    "#### This notebook processes South African Weather Service AWS files from `.xps` format to `.netcdf`\n",
    "\n",
    "Along the way we'll aslo save some pdf and csv files of the data"
   ]
  },
  {
   "cell_type": "code",
   "execution_count": 2,
   "id": "766cc1ce-dd68-4cc9-8fbf-baa590ee5432",
   "metadata": {},
   "outputs": [],
   "source": [
    "import fitz\n",
    "import pandas as pd\n",
    "from glob import glob\n",
    "import numpy as np\n",
    "import tabula"
   ]
  },
  {
   "cell_type": "markdown",
   "id": "844760c1-05f0-41de-83ca-74df5507d7d0",
   "metadata": {},
   "source": [
    "REMEMBER TO CHANGE THE FILE PATH TO WHERE YOUR `.xps` FILES ARE LOCATED. ALL YOUR NEW FILES WILL BE SAVED HERE."
   ]
  },
  {
   "cell_type": "code",
   "execution_count": 5,
   "id": "2682460c-c2b7-4c77-be23-26e82a3da9af",
   "metadata": {},
   "outputs": [],
   "source": [
    "filePath='/Users/marcel/Google Drive/Projects/code-repos/process-sa-agulhas-ii-data/aws/aws_test_data/'\n",
    "files=sorted(glob(filePath+'*.xps')) # list all the xps files"
   ]
  },
  {
   "cell_type": "code",
   "execution_count": 6,
   "id": "26b0d269-b085-4248-b945-63998d1a328d",
   "metadata": {},
   "outputs": [
    {
     "data": {
      "text/plain": [
       "['/Users/marcel/Google Drive/Projects/code-repos/process-sa-agulhas-ii-data/aws_test_data/aws_dec15.xps',\n",
       " '/Users/marcel/Google Drive/Projects/code-repos/process-sa-agulhas-ii-data/aws_test_data/aws_dec16.xps',\n",
       " '/Users/marcel/Google Drive/Projects/code-repos/process-sa-agulhas-ii-data/aws_test_data/aws_dec17.xps',\n",
       " '/Users/marcel/Google Drive/Projects/code-repos/process-sa-agulhas-ii-data/aws_test_data/aws_dec18.xps',\n",
       " '/Users/marcel/Google Drive/Projects/code-repos/process-sa-agulhas-ii-data/aws_test_data/aws_dec19.xps',\n",
       " '/Users/marcel/Google Drive/Projects/code-repos/process-sa-agulhas-ii-data/aws_test_data/aws_dec20.xps']"
      ]
     },
     "execution_count": 6,
     "metadata": {},
     "output_type": "execute_result"
    }
   ],
   "source": [
    "files"
   ]
  },
  {
   "cell_type": "code",
   "execution_count": 7,
   "id": "62b80c2f-6ca9-4979-a309-7d04ea793445",
   "metadata": {},
   "outputs": [],
   "source": [
    "# covert the xps to pdf and save a copy of each\n",
    "for f in files:\n",
    "    xps = fitz.open(f)\n",
    "    pdfbytes = xps.convert_to_pdf()\n",
    "    pdf = fitz.open(\"pdf\", pdfbytes)\n",
    "    pdf.save(filePath+str(f)[-13:-4]+\".pdf\")"
   ]
  },
  {
   "cell_type": "code",
   "execution_count": 8,
   "id": "040d7b37-8c30-431b-b847-104c49d27df4",
   "metadata": {},
   "outputs": [
    {
     "data": {
      "text/plain": [
       "['/Users/marcel/Google Drive/Projects/code-repos/process-sa-agulhas-ii-data/aws_test_data/aws_dec15.pdf',\n",
       " '/Users/marcel/Google Drive/Projects/code-repos/process-sa-agulhas-ii-data/aws_test_data/aws_dec16.pdf',\n",
       " '/Users/marcel/Google Drive/Projects/code-repos/process-sa-agulhas-ii-data/aws_test_data/aws_dec17.pdf',\n",
       " '/Users/marcel/Google Drive/Projects/code-repos/process-sa-agulhas-ii-data/aws_test_data/aws_dec18.pdf',\n",
       " '/Users/marcel/Google Drive/Projects/code-repos/process-sa-agulhas-ii-data/aws_test_data/aws_dec19.pdf',\n",
       " '/Users/marcel/Google Drive/Projects/code-repos/process-sa-agulhas-ii-data/aws_test_data/aws_dec20.pdf']"
      ]
     },
     "execution_count": 8,
     "metadata": {},
     "output_type": "execute_result"
    }
   ],
   "source": [
    "# now let's get a list of those pdf files\n",
    "files_pdf = [f.replace('xps', 'pdf') for f in files]\n",
    "files_pdf"
   ]
  },
  {
   "cell_type": "code",
   "execution_count": 9,
   "id": "1a36a68f-55bc-4085-9719-070193da0b1c",
   "metadata": {},
   "outputs": [],
   "source": [
    "# now convert the pdf files to csv\n",
    "for f in files_pdf:\n",
    "    tabula.read_pdf(f, pages='all', silent=True)\n",
    "    tabula.io.convert_into_by_batch(filePath, output_format='csv', pages='all', silent=True)"
   ]
  },
  {
   "cell_type": "code",
   "execution_count": 10,
   "id": "b7421753-1e4f-4c9c-a501-9d55cd9b4a61",
   "metadata": {},
   "outputs": [
    {
     "data": {
      "text/plain": [
       "['/Users/marcel/Google Drive/Projects/code-repos/process-sa-agulhas-ii-data/aws_test_data/aws_dec15.csv',\n",
       " '/Users/marcel/Google Drive/Projects/code-repos/process-sa-agulhas-ii-data/aws_test_data/aws_dec16.csv',\n",
       " '/Users/marcel/Google Drive/Projects/code-repos/process-sa-agulhas-ii-data/aws_test_data/aws_dec17.csv',\n",
       " '/Users/marcel/Google Drive/Projects/code-repos/process-sa-agulhas-ii-data/aws_test_data/aws_dec18.csv',\n",
       " '/Users/marcel/Google Drive/Projects/code-repos/process-sa-agulhas-ii-data/aws_test_data/aws_dec19.csv',\n",
       " '/Users/marcel/Google Drive/Projects/code-repos/process-sa-agulhas-ii-data/aws_test_data/aws_dec20.csv']"
      ]
     },
     "execution_count": 10,
     "metadata": {},
     "output_type": "execute_result"
    }
   ],
   "source": [
    "# now let's get a list of those csv files\n",
    "files_csv = [f.replace('pdf', 'csv') for f in files_pdf]\n",
    "files_csv"
   ]
  },
  {
   "cell_type": "code",
   "execution_count": 11,
   "id": "221bf8d4-1b1a-47cb-8ee8-08f7e1b0850d",
   "metadata": {},
   "outputs": [],
   "source": [
    "# read in csv files, rename headers and concatenate all to a pandas dataframe\n",
    "headers=['Time', 'Temperature', 'DewPoint',  'SeaTemp', 'Humidity', 'WindSpeed', 'WindGust', 'WindDir', 'Pressure', 'Salinity', 'Latitude', 'Longitude']\n",
    "\n",
    "for i,f in enumerate(files_csv):\n",
    "    \n",
    "    df=pd.read_csv(f)\n",
    "    df.columns=headers\n",
    "    \n",
    "    for ii,t in enumerate(df.Time):\n",
    "    \n",
    "        if 'Page' in t:\n",
    "            df=df.drop([ii])\n",
    "            \n",
    "        elif 'Date/Time' in t:\n",
    "            df=df.drop([ii])\n",
    "            \n",
    "        else:\n",
    "            yr=t[:4]\n",
    "            mn=t[5:7]\n",
    "            dy=t[8:10]\n",
    "            ms=t[11:]\n",
    "      \n",
    "            time = np.datetime64(yr+'-'+mn+'-'+dy+' '+ms)\n",
    "      \n",
    "            df['Time'][ii] = time\n",
    "        \n",
    "    if i==0:\n",
    "        \n",
    "        df_main = df\n",
    "        \n",
    "    if i>0:\n",
    "        \n",
    "        df_main = pd.concat([df_main, df])"
   ]
  },
  {
   "cell_type": "code",
   "execution_count": 12,
   "id": "a29adb4a-4b7f-4f48-899c-0540e0551fa9",
   "metadata": {},
   "outputs": [],
   "source": [
    "# now we need to make sure all negative value are correct as tabula doesn't pick up the negatives from the pdf\n",
    "\n",
    "var = ['Temperature', 'DewPoint', 'SeaTemp', 'Latitude', 'Longitude']\n",
    "\n",
    "for v in var:\n",
    "    \n",
    "    for i in range(df_main.shape[0]):\n",
    "        \n",
    "        if 'nan' in str(df_main[v].values[i]):\n",
    "            continue    \n",
    "                    \n",
    "        elif '\\xad' in str(df_main[v].values[i]):\n",
    "            df_main[v].values[i] = -1*np.array(df_main[v].values[i][1:]).astype(float)\n",
    "        \n",
    "        else:    \n",
    "            df_main[v].values[i] = np.array(df_main[v].values[i][1:]).astype(float)\n",
    "            \n",
    "    df_main[v] = df_main[v].astype(float)"
   ]
  },
  {
   "cell_type": "code",
   "execution_count": 21,
   "id": "f2f61457-6eeb-4bd9-831b-ebe7f6f1f905",
   "metadata": {},
   "outputs": [],
   "source": [
    "headers=['Temperature', 'DewPoint',  'SeaTemp', 'Humidity', 'WindSpeed', 'WindGust', 'WindDir', 'Pressure', 'Salinity', 'Latitude', 'Longitude']\n",
    "\n",
    "for h in headers:\n",
    "    \n",
    "    df_main[h] = df_main[h].astype(float)\n",
    "    \n",
    "yr_end=str(df_main.Time.iloc[-1])[:4]\n",
    "mn_end=str(df_main.Time.iloc[-1])[5:7]\n",
    "dy_end=str(df_main.Time.iloc[-1])[8:10]\n",
    "\n",
    "yr_srt=str(df_main.Time.iloc[0])[:4]\n",
    "mn_srt=str(df_main.Time.iloc[0])[5:7]\n",
    "dy_srt=str(df_main.Time.iloc[0])[8:10]\n",
    "    \n",
    "df_main.to_csv(filePath+'aws_'+yr_srt+mn_srt+dy_srt+'_'+yr_end+mn_end+dy_end+'.csv', index=False)"
   ]
  },
  {
   "cell_type": "code",
   "execution_count": 22,
   "id": "a0a26fce-9ac0-4cd8-af9a-48c28f46ee50",
   "metadata": {},
   "outputs": [],
   "source": [
    "# now let's put it in an xarray dataset so we can give it some metadata \n",
    "\n",
    "import xarray as xr\n",
    "ds = df_main.to_xarray()\n",
    "\n",
    "ds.attrs['vessel']     = 'S.A. Agulhas II'\n",
    "ds.attrs['data_owner'] = 'South African Weather Service'\n",
    "ds.attrs['department'] = 'Meteorological Laboratory'\n",
    "ds.attrs['data_type']  = 'Automatic Weather Station'\n",
    "ds.attrs['date_start'] = str(ds.Time[0].values)\n",
    "ds.attrs['date_end']   = str(ds.Time[-1].values)\n",
    "\n",
    "yr_end=str(ds.Time[-1].values)[:4]\n",
    "mn_end=str(ds.Time[-1].values)[5:7]\n",
    "dy_end=str(ds.Time[-1].values)[8:10]\n",
    "\n",
    "yr_srt=str(ds.Time[0].values)[:4]\n",
    "mn_srt=str(ds.Time[0].values)[5:7]\n",
    "dy_srt=str(ds.Time[0].values)[8:10]\n",
    "\n",
    "ds.to_netcdf(filePath+'aws_'+yr_srt+mn_srt+dy_srt+'_'+yr_end+mn_end+dy_end+'.nc')"
   ]
  },
  {
   "cell_type": "code",
   "execution_count": 23,
   "id": "996a4fa6-d18c-443b-b9ad-3eabe6096604",
   "metadata": {},
   "outputs": [],
   "source": [
    "# now we can also save it to a matfile if we wish \n",
    "import scipy.io as sio\n",
    "import os\n",
    "\n",
    "mat_data = {name: col.values for name, col in df_main.items()}\n",
    "sio.savemat(os.path.join(filePath+'aws_'+yr_srt+mn_srt+dy_srt+'_'+yr_end+mn_end+dy_end+'.mat'), mat_data)"
   ]
  }
 ],
 "metadata": {
  "kernelspec": {
   "display_name": "Python 3 (ipykernel)",
   "language": "python",
   "name": "python3"
  },
  "language_info": {
   "codemirror_mode": {
    "name": "ipython",
    "version": 3
   },
   "file_extension": ".py",
   "mimetype": "text/x-python",
   "name": "python",
   "nbconvert_exporter": "python",
   "pygments_lexer": "ipython3",
   "version": "3.8.12"
  }
 },
 "nbformat": 4,
 "nbformat_minor": 5
}
